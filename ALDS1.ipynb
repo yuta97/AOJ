{
 "cells": [
  {
   "cell_type": "code",
   "execution_count": 1,
   "metadata": {},
   "outputs": [],
   "source": [
    "#10A Fibonacci Number"
   ]
  },
  {
   "cell_type": "code",
   "execution_count": 13,
   "metadata": {},
   "outputs": [
    {
     "name": "stdout",
     "output_type": "stream",
     "text": [
      "4\n",
      "2\n",
      "3\n",
      "5\n",
      "5\n"
     ]
    }
   ],
   "source": [
    "n = int(input())\n",
    "\n",
    "F = [0]*50\n",
    "F[0] = 1\n",
    "F[1] = 1\n",
    "if n== 0 or n==1:\n",
    "    print(F[n])\n",
    "else:\n",
    "    for i in range(2,n+1):\n",
    "        F[i] = F[i-1]+ F[i-2]\n",
    "    print(F[n])\n"
   ]
  },
  {
   "cell_type": "code",
   "execution_count": 26,
   "metadata": {},
   "outputs": [],
   "source": [
    "#10B "
   ]
  },
  {
   "cell_type": "code",
   "execution_count": null,
   "metadata": {},
   "outputs": [],
   "source": [
    "#http://judge.u-aizu.ac.jp/onlinejudge/review.jsp?rid=3184906#1 参考"
   ]
  },
  {
   "cell_type": "code",
   "execution_count": 25,
   "metadata": {},
   "outputs": [
    {
     "name": "stdout",
     "output_type": "stream",
     "text": [
      "3 \n",
      "1 2\n",
      "2 3\n",
      "3 4\n",
      "18\n"
     ]
    }
   ],
   "source": [
    "n =int(input())\n",
    "R = [0]*(n+1)\n",
    "C = [0]*(n+1)\n",
    "for u in range(n):\n",
    "    R[u+1], C[u+1] = map(int, input().split())\n",
    "\n",
    "INF = 10**18    \n",
    "dp = [[INF]*(n+1) for _ in range(n+1)]\n",
    "for i in range(1,n+1):\n",
    "    dp[i][i] = 0\n",
    "for l in range(1,n):\n",
    "    for i in range(1,n+1-l):\n",
    "        dp[i][i+l] = min(dp[i][k]+ dp[k+1][i+l] + R[i]*C[k]*C[i+l] for k in range(i,i+l))\n",
    "\n",
    "print(dp[1][n])"
   ]
  }
 ],
 "metadata": {
  "kernelspec": {
   "display_name": "Python 3",
   "language": "python",
   "name": "python3"
  },
  "language_info": {
   "codemirror_mode": {
    "name": "ipython",
    "version": 3
   },
   "file_extension": ".py",
   "mimetype": "text/x-python",
   "name": "python",
   "nbconvert_exporter": "python",
   "pygments_lexer": "ipython3",
   "version": "3.7.6"
  }
 },
 "nbformat": 4,
 "nbformat_minor": 4
}
